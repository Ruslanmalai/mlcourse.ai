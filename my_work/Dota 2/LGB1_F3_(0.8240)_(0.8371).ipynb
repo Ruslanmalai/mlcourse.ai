{
 "cells": [
  {
   "cell_type": "markdown",
   "metadata": {},
   "source": [
    "### Reduced number of columns by dropping individual features of players"
   ]
  },
  {
   "cell_type": "code",
   "execution_count": 1,
   "metadata": {},
   "outputs": [
    {
     "data": {
      "text/html": [
       "        <script type=\"text/javascript\">\n",
       "        window.PlotlyConfig = {MathJaxConfig: 'local'};\n",
       "        if (window.MathJax) {MathJax.Hub.Config({SVG: {font: \"STIX-Web\"}});}\n",
       "        if (typeof require !== 'undefined') {\n",
       "        require.undef(\"plotly\");\n",
       "        requirejs.config({\n",
       "            paths: {\n",
       "                'plotly': ['https://cdn.plot.ly/plotly-latest.min']\n",
       "            }\n",
       "        });\n",
       "        require(['plotly'], function(Plotly) {\n",
       "            window._Plotly = Plotly;\n",
       "        });\n",
       "        }\n",
       "        </script>\n",
       "        "
      ]
     },
     "metadata": {},
     "output_type": "display_data"
    }
   ],
   "source": [
    "import numpy as np\n",
    "import pandas as pd\n",
    "import matplotlib.pyplot as plt\n",
    "import seaborn as sns\n",
    "%matplotlib inline\n",
    "\n",
    "from plotly import tools\n",
    "import plotly.graph_objs as go\n",
    "from plotly.offline import init_notebook_mode, iplot\n",
    "import warnings\n",
    "warnings.filterwarnings(\"ignore\")\n",
    "init_notebook_mode(connected=True)\n",
    "\n",
    "from sklearn.model_selection import train_test_split, StratifiedKFold, KFold, cross_val_score\n",
    "from sklearn.ensemble import RandomForestClassifier\n",
    "from sklearn.metrics import roc_auc_score\n",
    "import eli5\n",
    "from sklearn import decomposition\n",
    "import lightgbm as lgb\n",
    "import xgboost as xgb\n",
    "\n",
    "import os\n",
    "from IPython.display import display_html\n",
    "import time"
   ]
  },
  {
   "cell_type": "code",
   "execution_count": 2,
   "metadata": {},
   "outputs": [],
   "source": [
    "df_train = pd.read_pickle(\"./train_features_2.pkl\")\n",
    "df_test = pd.read_pickle(\"./test_features_2.pkl\")"
   ]
  },
  {
   "cell_type": "code",
   "execution_count": 3,
   "metadata": {},
   "outputs": [
    {
     "data": {
      "text/html": [
       "<div>\n",
       "<style scoped>\n",
       "    .dataframe tbody tr th:only-of-type {\n",
       "        vertical-align: middle;\n",
       "    }\n",
       "\n",
       "    .dataframe tbody tr th {\n",
       "        vertical-align: top;\n",
       "    }\n",
       "\n",
       "    .dataframe thead th {\n",
       "        text-align: right;\n",
       "    }\n",
       "</style>\n",
       "<table border=\"1\" class=\"dataframe\">\n",
       "  <thead>\n",
       "    <tr style=\"text-align: right;\">\n",
       "      <th></th>\n",
       "      <th>game_time</th>\n",
       "      <th>game_mode</th>\n",
       "      <th>lobby_type</th>\n",
       "      <th>objectives_len</th>\n",
       "      <th>chat_len</th>\n",
       "      <th>r1_hero_id</th>\n",
       "      <th>r1_kills</th>\n",
       "      <th>r1_deaths</th>\n",
       "      <th>r1_assists</th>\n",
       "      <th>r1_denies</th>\n",
       "      <th>...</th>\n",
       "      <th>mean_obs_placed_ratio</th>\n",
       "      <th>r_total_sen_placed</th>\n",
       "      <th>d_total_sen_placed</th>\n",
       "      <th>total_sen_placed_ratio</th>\n",
       "      <th>r_std_sen_placed</th>\n",
       "      <th>d_std_sen_placed</th>\n",
       "      <th>std_sen_placed_ratio</th>\n",
       "      <th>r_mean_sen_placed</th>\n",
       "      <th>d_mean_sen_placed</th>\n",
       "      <th>mean_sen_placed_ratio</th>\n",
       "    </tr>\n",
       "  </thead>\n",
       "  <tbody>\n",
       "    <tr>\n",
       "      <th>0</th>\n",
       "      <td>155</td>\n",
       "      <td>22</td>\n",
       "      <td>7</td>\n",
       "      <td>1</td>\n",
       "      <td>11</td>\n",
       "      <td>11</td>\n",
       "      <td>0</td>\n",
       "      <td>0</td>\n",
       "      <td>0</td>\n",
       "      <td>0</td>\n",
       "      <td>...</td>\n",
       "      <td>0.0</td>\n",
       "      <td>0</td>\n",
       "      <td>0</td>\n",
       "      <td>0.0</td>\n",
       "      <td>0.000000</td>\n",
       "      <td>0.000000</td>\n",
       "      <td>0.0</td>\n",
       "      <td>0.0</td>\n",
       "      <td>0.0</td>\n",
       "      <td>0.0</td>\n",
       "    </tr>\n",
       "    <tr>\n",
       "      <th>1</th>\n",
       "      <td>658</td>\n",
       "      <td>4</td>\n",
       "      <td>0</td>\n",
       "      <td>3</td>\n",
       "      <td>10</td>\n",
       "      <td>15</td>\n",
       "      <td>7</td>\n",
       "      <td>2</td>\n",
       "      <td>0</td>\n",
       "      <td>7</td>\n",
       "      <td>...</td>\n",
       "      <td>0.8</td>\n",
       "      <td>3</td>\n",
       "      <td>2</td>\n",
       "      <td>1.5</td>\n",
       "      <td>0.894427</td>\n",
       "      <td>0.894427</td>\n",
       "      <td>1.0</td>\n",
       "      <td>0.6</td>\n",
       "      <td>0.4</td>\n",
       "      <td>1.5</td>\n",
       "    </tr>\n",
       "    <tr>\n",
       "      <th>2</th>\n",
       "      <td>21</td>\n",
       "      <td>23</td>\n",
       "      <td>0</td>\n",
       "      <td>0</td>\n",
       "      <td>0</td>\n",
       "      <td>101</td>\n",
       "      <td>0</td>\n",
       "      <td>0</td>\n",
       "      <td>0</td>\n",
       "      <td>0</td>\n",
       "      <td>...</td>\n",
       "      <td>0.0</td>\n",
       "      <td>0</td>\n",
       "      <td>0</td>\n",
       "      <td>0.0</td>\n",
       "      <td>0.000000</td>\n",
       "      <td>0.000000</td>\n",
       "      <td>0.0</td>\n",
       "      <td>0.0</td>\n",
       "      <td>0.0</td>\n",
       "      <td>0.0</td>\n",
       "    </tr>\n",
       "  </tbody>\n",
       "</table>\n",
       "<p>3 rows × 452 columns</p>\n",
       "</div>"
      ],
      "text/plain": [
       "   game_time  game_mode  lobby_type  objectives_len  chat_len  r1_hero_id  \\\n",
       "0        155         22           7               1        11          11   \n",
       "1        658          4           0               3        10          15   \n",
       "2         21         23           0               0         0         101   \n",
       "\n",
       "   r1_kills  r1_deaths  r1_assists  r1_denies  ...  mean_obs_placed_ratio  \\\n",
       "0         0          0           0          0  ...                    0.0   \n",
       "1         7          2           0          7  ...                    0.8   \n",
       "2         0          0           0          0  ...                    0.0   \n",
       "\n",
       "   r_total_sen_placed  d_total_sen_placed  total_sen_placed_ratio  \\\n",
       "0                   0                   0                     0.0   \n",
       "1                   3                   2                     1.5   \n",
       "2                   0                   0                     0.0   \n",
       "\n",
       "   r_std_sen_placed  d_std_sen_placed  std_sen_placed_ratio  \\\n",
       "0          0.000000          0.000000                   0.0   \n",
       "1          0.894427          0.894427                   1.0   \n",
       "2          0.000000          0.000000                   0.0   \n",
       "\n",
       "   r_mean_sen_placed  d_mean_sen_placed  mean_sen_placed_ratio  \n",
       "0                0.0                0.0                    0.0  \n",
       "1                0.6                0.4                    1.5  \n",
       "2                0.0                0.0                    0.0  \n",
       "\n",
       "[3 rows x 452 columns]"
      ]
     },
     "execution_count": 3,
     "metadata": {},
     "output_type": "execute_result"
    }
   ],
   "source": [
    "df_train.head(3)"
   ]
  },
  {
   "cell_type": "code",
   "execution_count": 5,
   "metadata": {},
   "outputs": [],
   "source": [
    "PATH_TO_DATA = '../../data/dota_2/'\n",
    "SEED = 17"
   ]
  },
  {
   "cell_type": "code",
   "execution_count": 6,
   "metadata": {},
   "outputs": [],
   "source": [
    "df_train_targets = pd.read_csv(os.path.join(PATH_TO_DATA, \n",
    "                                            'train_targets.csv'), \n",
    "                                   index_col='match_id_hash')\n",
    "\n",
    "y = df_train_targets['radiant_win'].values"
   ]
  },
  {
   "cell_type": "code",
   "execution_count": 25,
   "metadata": {
    "collapsed": true
   },
   "outputs": [
    {
     "name": "stdout",
     "output_type": "stream",
     "text": [
      "['game_time', 'game_mode', 'lobby_type', 'objectives_len', 'chat_len', 'r1_hero_id', 'r1_kills', 'r1_deaths', 'r1_assists', 'r1_denies', 'r1_gold', 'r1_lh', 'r1_xp', 'r1_health', 'r1_max_health', 'r1_max_mana', 'r1_level', 'r1_x', 'r1_y', 'r1_stuns', 'r1_creeps_stacked', 'r1_camps_stacked', 'r1_rune_pickups', 'r1_firstblood_claimed', 'r1_teamfight_participation', 'r1_towers_killed', 'r1_roshans_killed', 'r1_obs_placed', 'r1_sen_placed', 'r2_hero_id', 'r2_kills', 'r2_deaths', 'r2_assists', 'r2_denies', 'r2_gold', 'r2_lh', 'r2_xp', 'r2_health', 'r2_max_health', 'r2_max_mana', 'r2_level', 'r2_x', 'r2_y', 'r2_stuns', 'r2_creeps_stacked', 'r2_camps_stacked', 'r2_rune_pickups', 'r2_firstblood_claimed', 'r2_teamfight_participation', 'r2_towers_killed', 'r2_roshans_killed', 'r2_obs_placed', 'r2_sen_placed', 'r3_hero_id', 'r3_kills', 'r3_deaths', 'r3_assists', 'r3_denies', 'r3_gold', 'r3_lh', 'r3_xp', 'r3_health', 'r3_max_health', 'r3_max_mana', 'r3_level', 'r3_x', 'r3_y', 'r3_stuns', 'r3_creeps_stacked', 'r3_camps_stacked', 'r3_rune_pickups', 'r3_firstblood_claimed', 'r3_teamfight_participation', 'r3_towers_killed', 'r3_roshans_killed', 'r3_obs_placed', 'r3_sen_placed', 'r4_hero_id', 'r4_kills', 'r4_deaths', 'r4_assists', 'r4_denies', 'r4_gold', 'r4_lh', 'r4_xp', 'r4_health', 'r4_max_health', 'r4_max_mana', 'r4_level', 'r4_x', 'r4_y', 'r4_stuns', 'r4_creeps_stacked', 'r4_camps_stacked', 'r4_rune_pickups', 'r4_firstblood_claimed', 'r4_teamfight_participation', 'r4_towers_killed', 'r4_roshans_killed', 'r4_obs_placed', 'r4_sen_placed', 'r5_hero_id', 'r5_kills', 'r5_deaths', 'r5_assists', 'r5_denies', 'r5_gold', 'r5_lh', 'r5_xp', 'r5_health', 'r5_max_health', 'r5_max_mana', 'r5_level', 'r5_x', 'r5_y', 'r5_stuns', 'r5_creeps_stacked', 'r5_camps_stacked', 'r5_rune_pickups', 'r5_firstblood_claimed', 'r5_teamfight_participation', 'r5_towers_killed', 'r5_roshans_killed', 'r5_obs_placed', 'r5_sen_placed', 'd1_hero_id', 'd1_kills', 'd1_deaths', 'd1_assists', 'd1_denies', 'd1_gold', 'd1_lh', 'd1_xp', 'd1_health', 'd1_max_health', 'd1_max_mana', 'd1_level', 'd1_x', 'd1_y', 'd1_stuns', 'd1_creeps_stacked', 'd1_camps_stacked', 'd1_rune_pickups', 'd1_firstblood_claimed', 'd1_teamfight_participation', 'd1_towers_killed', 'd1_roshans_killed', 'd1_obs_placed', 'd1_sen_placed', 'd2_hero_id', 'd2_kills', 'd2_deaths', 'd2_assists', 'd2_denies', 'd2_gold', 'd2_lh', 'd2_xp', 'd2_health', 'd2_max_health', 'd2_max_mana', 'd2_level', 'd2_x', 'd2_y', 'd2_stuns', 'd2_creeps_stacked', 'd2_camps_stacked', 'd2_rune_pickups', 'd2_firstblood_claimed', 'd2_teamfight_participation', 'd2_towers_killed', 'd2_roshans_killed', 'd2_obs_placed', 'd2_sen_placed', 'd3_hero_id', 'd3_kills', 'd3_deaths', 'd3_assists', 'd3_denies', 'd3_gold', 'd3_lh', 'd3_xp', 'd3_health', 'd3_max_health', 'd3_max_mana', 'd3_level', 'd3_x', 'd3_y', 'd3_stuns', 'd3_creeps_stacked', 'd3_camps_stacked', 'd3_rune_pickups', 'd3_firstblood_claimed', 'd3_teamfight_participation', 'd3_towers_killed', 'd3_roshans_killed', 'd3_obs_placed', 'd3_sen_placed', 'd4_hero_id', 'd4_kills', 'd4_deaths', 'd4_assists', 'd4_denies', 'd4_gold', 'd4_lh', 'd4_xp', 'd4_health', 'd4_max_health', 'd4_max_mana', 'd4_level', 'd4_x', 'd4_y', 'd4_stuns', 'd4_creeps_stacked', 'd4_camps_stacked', 'd4_rune_pickups', 'd4_firstblood_claimed', 'd4_teamfight_participation', 'd4_towers_killed', 'd4_roshans_killed', 'd4_obs_placed', 'd4_sen_placed', 'd5_hero_id', 'd5_kills', 'd5_deaths', 'd5_assists', 'd5_denies', 'd5_gold', 'd5_lh', 'd5_xp', 'd5_health', 'd5_max_health', 'd5_max_mana', 'd5_level', 'd5_x', 'd5_y', 'd5_stuns', 'd5_creeps_stacked', 'd5_camps_stacked', 'd5_rune_pickups', 'd5_firstblood_claimed', 'd5_teamfight_participation', 'd5_towers_killed', 'd5_roshans_killed', 'd5_obs_placed', 'd5_sen_placed', 'r_total_kills', 'd_total_kills', 'total_kills_ratio', 'r_std_kills', 'd_std_kills', 'std_kills_ratio', 'r_mean_kills', 'd_mean_kills', 'mean_kills_ratio', 'r_total_deaths', 'd_total_deaths', 'total_deaths_ratio', 'r_std_deaths', 'd_std_deaths', 'std_deaths_ratio', 'r_mean_deaths', 'd_mean_deaths', 'mean_deaths_ratio', 'r_total_assists', 'd_total_assists', 'total_assists_ratio', 'r_std_assists', 'd_std_assists', 'std_assists_ratio', 'r_mean_assists', 'd_mean_assists', 'mean_assists_ratio', 'r_total_denies', 'd_total_denies', 'total_denies_ratio', 'r_std_denies', 'd_std_denies', 'std_denies_ratio', 'r_mean_denies', 'd_mean_denies', 'mean_denies_ratio', 'r_total_gold', 'd_total_gold', 'total_gold_ratio', 'r_std_gold', 'd_std_gold', 'std_gold_ratio', 'r_mean_gold', 'd_mean_gold', 'mean_gold_ratio', 'r_total_lh', 'd_total_lh', 'total_lh_ratio', 'r_std_lh', 'd_std_lh', 'std_lh_ratio', 'r_mean_lh', 'd_mean_lh', 'mean_lh_ratio', 'r_total_xp', 'd_total_xp', 'total_xp_ratio', 'r_std_xp', 'd_std_xp', 'std_xp_ratio', 'r_mean_xp', 'd_mean_xp', 'mean_xp_ratio', 'r_total_health', 'd_total_health', 'total_health_ratio', 'r_std_health', 'd_std_health', 'std_health_ratio', 'r_mean_health', 'd_mean_health', 'mean_health_ratio', 'r_total_max_health', 'd_total_max_health', 'total_max_health_ratio', 'r_std_max_health', 'd_std_max_health', 'std_max_health_ratio', 'r_mean_max_health', 'd_mean_max_health', 'mean_max_health_ratio', 'r_total_max_mana', 'd_total_max_mana', 'total_max_mana_ratio', 'r_std_max_mana', 'd_std_max_mana', 'std_max_mana_ratio', 'r_mean_max_mana', 'd_mean_max_mana', 'mean_max_mana_ratio', 'r_total_level', 'd_total_level', 'total_level_ratio', 'r_std_level', 'd_std_level', 'std_level_ratio', 'r_mean_level', 'd_mean_level', 'mean_level_ratio', 'r_total_x', 'd_total_x', 'total_x_ratio', 'r_std_x', 'd_std_x', 'std_x_ratio', 'r_mean_x', 'd_mean_x', 'mean_x_ratio', 'r_total_y', 'd_total_y', 'total_y_ratio', 'r_std_y', 'd_std_y', 'std_y_ratio', 'r_mean_y', 'd_mean_y', 'mean_y_ratio', 'r_total_stuns', 'd_total_stuns', 'total_stuns_ratio', 'r_std_stuns', 'd_std_stuns', 'std_stuns_ratio', 'r_mean_stuns', 'd_mean_stuns', 'mean_stuns_ratio', 'r_total_creeps_stacked', 'd_total_creeps_stacked', 'total_creeps_stacked_ratio', 'r_std_creeps_stacked', 'd_std_creeps_stacked', 'std_creeps_stacked_ratio', 'r_mean_creeps_stacked', 'd_mean_creeps_stacked', 'mean_creeps_stacked_ratio', 'r_total_camps_stacked', 'd_total_camps_stacked', 'total_camps_stacked_ratio', 'r_std_camps_stacked', 'd_std_camps_stacked', 'std_camps_stacked_ratio', 'r_mean_camps_stacked', 'd_mean_camps_stacked', 'mean_camps_stacked_ratio', 'r_total_rune_pickups', 'd_total_rune_pickups', 'total_rune_pickups_ratio', 'r_std_rune_pickups', 'd_std_rune_pickups', 'std_rune_pickups_ratio', 'r_mean_rune_pickups', 'd_mean_rune_pickups', 'mean_rune_pickups_ratio', 'r_total_firstblood_claimed', 'd_total_firstblood_claimed', 'total_firstblood_claimed_ratio', 'r_std_firstblood_claimed', 'd_std_firstblood_claimed', 'std_firstblood_claimed_ratio', 'r_mean_firstblood_claimed', 'd_mean_firstblood_claimed', 'mean_firstblood_claimed_ratio', 'r_total_teamfight_participation', 'd_total_teamfight_participation', 'total_teamfight_participation_ratio', 'r_std_teamfight_participation', 'd_std_teamfight_participation', 'std_teamfight_participation_ratio', 'r_mean_teamfight_participation', 'd_mean_teamfight_participation', 'mean_teamfight_participation_ratio', 'r_total_towers_killed', 'd_total_towers_killed', 'total_towers_killed_ratio', 'r_std_towers_killed', 'd_std_towers_killed', 'std_towers_killed_ratio', 'r_mean_towers_killed', 'd_mean_towers_killed', 'mean_towers_killed_ratio', 'r_total_roshans_killed', 'd_total_roshans_killed', 'total_roshans_killed_ratio', 'r_std_roshans_killed', 'd_std_roshans_killed', 'std_roshans_killed_ratio', 'r_mean_roshans_killed', 'd_mean_roshans_killed', 'mean_roshans_killed_ratio', 'r_total_obs_placed', 'd_total_obs_placed', 'total_obs_placed_ratio', 'r_std_obs_placed', 'd_std_obs_placed', 'std_obs_placed_ratio', 'r_mean_obs_placed', 'd_mean_obs_placed', 'mean_obs_placed_ratio', 'r_total_sen_placed', 'd_total_sen_placed', 'total_sen_placed_ratio', 'r_std_sen_placed', 'd_std_sen_placed', 'std_sen_placed_ratio', 'r_mean_sen_placed', 'd_mean_sen_placed', 'mean_sen_placed_ratio']\n"
     ]
    }
   ],
   "source": [
    "columns = list(df_train.columns)\n",
    "print(columns)"
   ]
  },
  {
   "cell_type": "code",
   "execution_count": 11,
   "metadata": {},
   "outputs": [
    {
     "data": {
      "text/plain": [
       "6"
      ]
     },
     "execution_count": 11,
     "metadata": {},
     "output_type": "execute_result"
    }
   ],
   "source": [
    "columns.index('r1_kills')"
   ]
  },
  {
   "cell_type": "code",
   "execution_count": 12,
   "metadata": {},
   "outputs": [
    {
     "data": {
      "text/plain": [
       "244"
      ]
     },
     "execution_count": 12,
     "metadata": {},
     "output_type": "execute_result"
    }
   ],
   "source": [
    "columns.index('d5_sen_placed')"
   ]
  },
  {
   "cell_type": "code",
   "execution_count": 26,
   "metadata": {},
   "outputs": [
    {
     "name": "stdout",
     "output_type": "stream",
     "text": [
      "Index(['r1_hero_id', 'r1_kills', 'r1_deaths', 'r1_assists', 'r1_denies',\n",
      "       'r1_gold', 'r1_lh', 'r1_xp', 'r1_health', 'r1_max_health',\n",
      "       ...\n",
      "       'd5_stuns', 'd5_creeps_stacked', 'd5_camps_stacked', 'd5_rune_pickups',\n",
      "       'd5_firstblood_claimed', 'd5_teamfight_participation',\n",
      "       'd5_towers_killed', 'd5_roshans_killed', 'd5_obs_placed',\n",
      "       'd5_sen_placed'],\n",
      "      dtype='object', length=240)\n"
     ]
    }
   ],
   "source": [
    "individual_columns = df_train.iloc[: , 5 : 245].columns\n",
    "print(individual_columns)"
   ]
  },
  {
   "cell_type": "code",
   "execution_count": 27,
   "metadata": {},
   "outputs": [],
   "source": [
    "X = df_train.drop(columns = individual_columns, axis = 1, )"
   ]
  },
  {
   "cell_type": "code",
   "execution_count": 28,
   "metadata": {},
   "outputs": [
    {
     "data": {
      "text/plain": [
       "Index(['game_time', 'game_mode', 'lobby_type', 'objectives_len', 'chat_len',\n",
       "       'r_total_kills', 'd_total_kills', 'total_kills_ratio', 'r_std_kills',\n",
       "       'd_std_kills',\n",
       "       ...\n",
       "       'mean_obs_placed_ratio', 'r_total_sen_placed', 'd_total_sen_placed',\n",
       "       'total_sen_placed_ratio', 'r_std_sen_placed', 'd_std_sen_placed',\n",
       "       'std_sen_placed_ratio', 'r_mean_sen_placed', 'd_mean_sen_placed',\n",
       "       'mean_sen_placed_ratio'],\n",
       "      dtype='object', length=212)"
      ]
     },
     "execution_count": 28,
     "metadata": {},
     "output_type": "execute_result"
    }
   ],
   "source": [
    "X.columns"
   ]
  },
  {
   "cell_type": "code",
   "execution_count": 29,
   "metadata": {},
   "outputs": [
    {
     "data": {
      "text/plain": [
       "Index(['game_time', 'game_mode', 'lobby_type', 'objectives_len', 'chat_len',\n",
       "       'r_total_kills', 'd_total_kills', 'total_kills_ratio', 'r_std_kills',\n",
       "       'd_std_kills',\n",
       "       ...\n",
       "       'mean_obs_placed_ratio', 'r_total_sen_placed', 'd_total_sen_placed',\n",
       "       'total_sen_placed_ratio', 'r_std_sen_placed', 'd_std_sen_placed',\n",
       "       'std_sen_placed_ratio', 'r_mean_sen_placed', 'd_mean_sen_placed',\n",
       "       'mean_sen_placed_ratio'],\n",
       "      dtype='object', length=212)"
      ]
     },
     "execution_count": 29,
     "metadata": {},
     "output_type": "execute_result"
    }
   ],
   "source": [
    "X_test = df_test.drop(columns = individual_columns, axis = 1 )\n",
    "X_test.columns"
   ]
  },
  {
   "cell_type": "code",
   "execution_count": 30,
   "metadata": {},
   "outputs": [],
   "source": [
    "def train_model(X, X_test, y, params, folds, model_type='lgb', plot_feature_importance=False, averaging='usual', model=None):\n",
    "    oof = np.zeros(len(X))\n",
    "    prediction = np.zeros(len(X_test))\n",
    "    scores = []\n",
    "    feature_importance = pd.DataFrame()\n",
    "    for fold_n, (train_index, valid_index) in enumerate(folds.split(X, y)):\n",
    "        print('Fold', fold_n, 'started at', time.ctime())\n",
    "        X_train, X_valid = X.loc[train_index], X.loc[valid_index]\n",
    "        y_train, y_valid = y[train_index], y[valid_index]\n",
    "        \n",
    "        if model_type == 'lgb':\n",
    "            train_data = lgb.Dataset(X_train, label=y_train)\n",
    "            valid_data = lgb.Dataset(X_valid, label=y_valid)\n",
    "            \n",
    "            model = lgb.train(params,\n",
    "                    train_data,\n",
    "                    num_boost_round=20000,\n",
    "                    valid_sets = [train_data, valid_data],\n",
    "                    verbose_eval=1000,\n",
    "                    early_stopping_rounds = 200)\n",
    "            \n",
    "            y_pred_valid = model.predict(X_valid)\n",
    "            y_pred = model.predict(X_test, num_iteration=model.best_iteration)\n",
    "            \n",
    "        if model_type == 'xgb':\n",
    "            train_data = xgb.DMatrix(data=X_train, label=y_train, feature_names=X_train.columns)\n",
    "            valid_data = xgb.DMatrix(data=X_valid, label=y_valid, feature_names=X_train.columns)\n",
    "\n",
    "            watchlist = [(train_data, 'train'), (valid_data, 'valid_data')]\n",
    "            model = xgb.train(dtrain=train_data, num_boost_round=20000, evals=watchlist, early_stopping_rounds=200, verbose_eval=500, params=params)\n",
    "            y_pred_valid = model.predict(xgb.DMatrix(X_valid, feature_names=X_train.columns), ntree_limit=model.best_ntree_limit)\n",
    "            y_pred = model.predict(xgb.DMatrix(X_test, feature_names=X_train.columns), ntree_limit=model.best_ntree_limit)\n",
    "        \n",
    "        if model_type == 'sklearn':\n",
    "            model = model\n",
    "            model.fit(X_train, y_train)\n",
    "            y_pred_valid = model.predict_proba(X_valid).reshape(-1,)\n",
    "            score = roc_auc_score(y_valid, y_pred_valid)\n",
    "            # print(f'Fold {fold_n}. AUC: {score:.4f}.')\n",
    "            # print('')\n",
    "            \n",
    "            y_pred = model.predict_proba(X_test)[:, 1]\n",
    "            \n",
    "        if model_type == 'glm':\n",
    "            model = sm.GLM(y_train, X_train, family=sm.families.Binomial())\n",
    "            model_results = model.fit()\n",
    "            model_results.predict(X_test)\n",
    "            y_pred_valid = model_results.predict(X_valid).reshape(-1,)\n",
    "            score = roc_auc_score(y_valid, y_pred_valid)\n",
    "            \n",
    "            y_pred = model_results.predict(X_test)\n",
    "            \n",
    "        if model_type == 'cat':\n",
    "            model = CatBoostClassifier(iterations=20000, learning_rate=0.05, loss_function='Logloss',  eval_metric='AUC', **params)\n",
    "            model.fit(X_train, y_train, eval_set=(X_valid, y_valid), cat_features=[], use_best_model=True, verbose=False)\n",
    "\n",
    "            y_pred_valid = model.predict_proba(X_valid)[:, 1]\n",
    "            y_pred = model.predict_proba(X_test)[:, 1]\n",
    "            \n",
    "        oof[valid_index] = y_pred_valid.reshape(-1,)\n",
    "        scores.append(roc_auc_score(y_valid, y_pred_valid))\n",
    "\n",
    "        if averaging == 'usual':\n",
    "            prediction += y_pred\n",
    "        elif averaging == 'rank':\n",
    "            prediction += pd.Series(y_pred).rank().values  \n",
    "        \n",
    "        if model_type == 'lgb':\n",
    "            # feature importance\n",
    "            fold_importance = pd.DataFrame()\n",
    "            fold_importance[\"feature\"] = X.columns\n",
    "            fold_importance[\"importance\"] = model.feature_importance()\n",
    "            fold_importance[\"fold\"] = fold_n + 1\n",
    "            feature_importance = pd.concat([feature_importance, fold_importance], axis=0)\n",
    "\n",
    "    prediction /= n_fold\n",
    "    \n",
    "    print('CV mean score: {0:.4f}, std: {1:.4f}.'.format(np.mean(scores), np.std(scores)))\n",
    "    \n",
    "    if model_type == 'lgb':\n",
    "        feature_importance[\"importance\"] /= n_fold\n",
    "        if plot_feature_importance:\n",
    "            cols = feature_importance[[\"feature\", \"importance\"]].groupby(\"feature\").mean().sort_values(\n",
    "                by=\"importance\", ascending=False)[:50].index\n",
    "\n",
    "            best_features = feature_importance.loc[feature_importance.feature.isin(cols)]\n",
    "\n",
    "            plt.figure(figsize=(16, 12));\n",
    "            sns.barplot(x=\"importance\", y=\"feature\", data=best_features.sort_values(by=\"importance\", ascending=False));\n",
    "            plt.title('LGB Features (avg over folds)');\n",
    "        \n",
    "            return oof, prediction, feature_importance\n",
    "        return oof, prediction, scores\n",
    "    \n",
    "    else:\n",
    "        return oof, prediction, scores"
   ]
  },
  {
   "cell_type": "code",
   "execution_count": 31,
   "metadata": {},
   "outputs": [],
   "source": [
    "n_fold = 5\n",
    "folds = StratifiedKFold(n_splits=n_fold, shuffle=True, random_state=42)"
   ]
  },
  {
   "cell_type": "code",
   "execution_count": 32,
   "metadata": {},
   "outputs": [],
   "source": [
    "params = {'boost': 'gbdt',\n",
    "          'feature_fraction': 0.05,\n",
    "          'learning_rate': 0.01,\n",
    "          'max_depth': -1,  \n",
    "          'metric':'auc',\n",
    "          'min_data_in_leaf': 50,\n",
    "          'num_leaves': 32,\n",
    "          'num_threads': -1,\n",
    "          'verbosity': 1,\n",
    "          'objective': 'binary'\n",
    "         }"
   ]
  },
  {
   "cell_type": "code",
   "execution_count": 33,
   "metadata": {},
   "outputs": [],
   "source": [
    "import  time"
   ]
  },
  {
   "cell_type": "code",
   "execution_count": 34,
   "metadata": {},
   "outputs": [
    {
     "name": "stdout",
     "output_type": "stream",
     "text": [
      "Fold 0 started at Fri Nov 15 15:52:27 2019\n",
      "Training until validation scores don't improve for 200 rounds\n",
      "[1000]\ttraining's auc: 0.875141\tvalid_1's auc: 0.824495\n",
      "Early stopping, best iteration is:\n",
      "[1052]\ttraining's auc: 0.877457\tvalid_1's auc: 0.82455\n",
      "Fold 1 started at Fri Nov 15 15:52:36 2019\n",
      "Training until validation scores don't improve for 200 rounds\n",
      "[1000]\ttraining's auc: 0.876843\tvalid_1's auc: 0.812743\n",
      "[2000]\ttraining's auc: 0.915354\tvalid_1's auc: 0.81321\n",
      "Early stopping, best iteration is:\n",
      "[1849]\ttraining's auc: 0.910262\tvalid_1's auc: 0.813265\n",
      "Fold 2 started at Fri Nov 15 15:52:52 2019\n",
      "Training until validation scores don't improve for 200 rounds\n",
      "[1000]\ttraining's auc: 0.874462\tvalid_1's auc: 0.826844\n",
      "Early stopping, best iteration is:\n",
      "[1412]\ttraining's auc: 0.892557\tvalid_1's auc: 0.8272\n",
      "Fold 3 started at Fri Nov 15 15:53:04 2019\n",
      "Training until validation scores don't improve for 200 rounds\n",
      "[1000]\ttraining's auc: 0.874165\tvalid_1's auc: 0.827473\n",
      "[2000]\ttraining's auc: 0.913887\tvalid_1's auc: 0.828137\n",
      "Early stopping, best iteration is:\n",
      "[2084]\ttraining's auc: 0.916827\tvalid_1's auc: 0.828253\n",
      "Fold 4 started at Fri Nov 15 15:53:22 2019\n",
      "Training until validation scores don't improve for 200 rounds\n",
      "[1000]\ttraining's auc: 0.874758\tvalid_1's auc: 0.826374\n",
      "Early stopping, best iteration is:\n",
      "[1521]\ttraining's auc: 0.897402\tvalid_1's auc: 0.826888\n",
      "CV mean score: 0.8240, std: 0.0055.\n"
     ]
    },
    {
     "data": {
      "image/png": "[encoded data removed]",
      "text/plain": [
       "<Figure size 1152x864 with 1 Axes>"
      ]
     },
     "metadata": {
      "needs_background": "light"
     },
     "output_type": "display_data"
    }
   ],
   "source": [
    "oof_lgb, prediction_lgb, scores = train_model(X, X_test, y, params=params, \n",
    "                                              folds=folds, model_type='lgb', \n",
    "                                              plot_feature_importance=True)"
   ]
  },
  {
   "cell_type": "code",
   "execution_count": 38,
   "metadata": {},
   "outputs": [],
   "source": [
    "df_test_features = pd.read_csv(os.path.join(PATH_TO_DATA, \n",
    "                                             'test_features.csv'), \n",
    "                                    index_col='match_id_hash')"
   ]
  },
  {
   "cell_type": "code",
   "execution_count": 39,
   "metadata": {},
   "outputs": [],
   "source": [
    "df_submission = pd.DataFrame(\n",
    "    {'radiant_win_prob': prediction_lgb}, \n",
    "    index=df_test_features.index,)\n",
    "\n",
    "df_submission.to_csv('sumbmission_lgb1_f3.csv')"
   ]
  },
  {
   "cell_type": "code",
   "execution_count": 40,
   "metadata": {},
   "outputs": [
    {
     "data": {
      "text/html": [
       "<div>\n",
       "<style scoped>\n",
       "    .dataframe tbody tr th:only-of-type {\n",
       "        vertical-align: middle;\n",
       "    }\n",
       "\n",
       "    .dataframe tbody tr th {\n",
       "        vertical-align: top;\n",
       "    }\n",
       "\n",
       "    .dataframe thead th {\n",
       "        text-align: right;\n",
       "    }\n",
       "</style>\n",
       "<table border=\"1\" class=\"dataframe\">\n",
       "  <thead>\n",
       "    <tr style=\"text-align: right;\">\n",
       "      <th></th>\n",
       "      <th>radiant_win_prob</th>\n",
       "    </tr>\n",
       "    <tr>\n",
       "      <th>match_id_hash</th>\n",
       "      <th></th>\n",
       "    </tr>\n",
       "  </thead>\n",
       "  <tbody>\n",
       "    <tr>\n",
       "      <th>30cc2d778dca82f2edb568ce9b585caa</th>\n",
       "      <td>0.511747</td>\n",
       "    </tr>\n",
       "    <tr>\n",
       "      <th>70e5ba30f367cea48793b9003fab9d38</th>\n",
       "      <td>0.983812</td>\n",
       "    </tr>\n",
       "    <tr>\n",
       "      <th>4d9ef74d3a2025d79e9423105fd73d41</th>\n",
       "      <td>0.980381</td>\n",
       "    </tr>\n",
       "  </tbody>\n",
       "</table>\n",
       "</div>"
      ],
      "text/plain": [
       "                                  radiant_win_prob\n",
       "match_id_hash                                     \n",
       "30cc2d778dca82f2edb568ce9b585caa          0.511747\n",
       "70e5ba30f367cea48793b9003fab9d38          0.983812\n",
       "4d9ef74d3a2025d79e9423105fd73d41          0.980381"
      ]
     },
     "execution_count": 40,
     "metadata": {},
     "output_type": "execute_result"
    }
   ],
   "source": [
    "df_submission.head(3)"
   ]
  },
  {
   "cell_type": "code",
   "execution_count": 41,
   "metadata": {},
   "outputs": [],
   "source": [
    "pd.to_pickle(X, \"./train_features_3.pkl\")\n",
    "pd.to_pickle(X_test, \"./test_features_3.pkl\")"
   ]
  },
  {
   "cell_type": "code",
   "execution_count": null,
   "metadata": {},
   "outputs": [],
   "source": []
  }
 ],
 "metadata": {
  "kernelspec": {
   "display_name": "Python 3",
   "language": "python",
   "name": "python3"
  },
  "language_info": {
   "codemirror_mode": {
    "name": "ipython",
    "version": 3
   },
   "file_extension": ".py",
   "mimetype": "text/x-python",
   "name": "python",
   "nbconvert_exporter": "python",
   "pygments_lexer": "ipython3",
   "version": "3.7.3"
  }
 },
 "nbformat": 4,
 "nbformat_minor": 2
}
