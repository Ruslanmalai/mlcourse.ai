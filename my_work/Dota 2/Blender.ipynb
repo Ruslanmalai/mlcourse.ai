{
 "cells": [
  {
   "cell_type": "code",
   "execution_count": 1,
   "metadata": {},
   "outputs": [],
   "source": [
    "import pandas as pd"
   ]
  },
  {
   "cell_type": "code",
   "execution_count": 3,
   "metadata": {},
   "outputs": [],
   "source": [
    "submission_1 = pd.read_csv(\"./sumbmission_cat1_f7.csv\") "
   ]
  },
  {
   "cell_type": "code",
   "execution_count": 4,
   "metadata": {},
   "outputs": [],
   "source": [
    "submission_2 = pd.read_csv(\"./submission_lr1_f7.csv\") "
   ]
  },
  {
   "cell_type": "code",
   "execution_count": 5,
   "metadata": {},
   "outputs": [],
   "source": [
    "submission_3 = pd.read_csv(\"./sumbmission_lgb1_f7.csv\") "
   ]
  },
  {
   "cell_type": "code",
   "execution_count": 7,
   "metadata": {},
   "outputs": [
    {
     "data": {
      "text/html": [
       "<div>\n",
       "<style scoped>\n",
       "    .dataframe tbody tr th:only-of-type {\n",
       "        vertical-align: middle;\n",
       "    }\n",
       "\n",
       "    .dataframe tbody tr th {\n",
       "        vertical-align: top;\n",
       "    }\n",
       "\n",
       "    .dataframe thead th {\n",
       "        text-align: right;\n",
       "    }\n",
       "</style>\n",
       "<table border=\"1\" class=\"dataframe\">\n",
       "  <thead>\n",
       "    <tr style=\"text-align: right;\">\n",
       "      <th></th>\n",
       "      <th>match_id_hash</th>\n",
       "      <th>radiant_win_prob</th>\n",
       "    </tr>\n",
       "  </thead>\n",
       "  <tbody>\n",
       "    <tr>\n",
       "      <th>0</th>\n",
       "      <td>30cc2d778dca82f2edb568ce9b585caa</td>\n",
       "      <td>0.149652</td>\n",
       "    </tr>\n",
       "    <tr>\n",
       "      <th>1</th>\n",
       "      <td>70e5ba30f367cea48793b9003fab9d38</td>\n",
       "      <td>0.983267</td>\n",
       "    </tr>\n",
       "    <tr>\n",
       "      <th>2</th>\n",
       "      <td>4d9ef74d3a2025d79e9423105fd73d41</td>\n",
       "      <td>0.951244</td>\n",
       "    </tr>\n",
       "  </tbody>\n",
       "</table>\n",
       "</div>"
      ],
      "text/plain": [
       "                      match_id_hash  radiant_win_prob\n",
       "0  30cc2d778dca82f2edb568ce9b585caa          0.149652\n",
       "1  70e5ba30f367cea48793b9003fab9d38          0.983267\n",
       "2  4d9ef74d3a2025d79e9423105fd73d41          0.951244"
      ]
     },
     "execution_count": 7,
     "metadata": {},
     "output_type": "execute_result"
    }
   ],
   "source": [
    "submission_1.head(3)"
   ]
  },
  {
   "cell_type": "code",
   "execution_count": 8,
   "metadata": {},
   "outputs": [
    {
     "data": {
      "text/html": [
       "<div>\n",
       "<style scoped>\n",
       "    .dataframe tbody tr th:only-of-type {\n",
       "        vertical-align: middle;\n",
       "    }\n",
       "\n",
       "    .dataframe tbody tr th {\n",
       "        vertical-align: top;\n",
       "    }\n",
       "\n",
       "    .dataframe thead th {\n",
       "        text-align: right;\n",
       "    }\n",
       "</style>\n",
       "<table border=\"1\" class=\"dataframe\">\n",
       "  <thead>\n",
       "    <tr style=\"text-align: right;\">\n",
       "      <th></th>\n",
       "      <th>match_id_hash</th>\n",
       "      <th>radiant_win_prob</th>\n",
       "    </tr>\n",
       "  </thead>\n",
       "  <tbody>\n",
       "    <tr>\n",
       "      <th>0</th>\n",
       "      <td>30cc2d778dca82f2edb568ce9b585caa</td>\n",
       "      <td>0.159094</td>\n",
       "    </tr>\n",
       "    <tr>\n",
       "      <th>1</th>\n",
       "      <td>70e5ba30f367cea48793b9003fab9d38</td>\n",
       "      <td>0.983399</td>\n",
       "    </tr>\n",
       "    <tr>\n",
       "      <th>2</th>\n",
       "      <td>4d9ef74d3a2025d79e9423105fd73d41</td>\n",
       "      <td>0.962185</td>\n",
       "    </tr>\n",
       "    <tr>\n",
       "      <th>3</th>\n",
       "      <td>2bb79e0c1eaac1608e5a09c8e0c6a555</td>\n",
       "      <td>0.831977</td>\n",
       "    </tr>\n",
       "    <tr>\n",
       "      <th>4</th>\n",
       "      <td>bec17f099b01d67edc82dfb5ce735a43</td>\n",
       "      <td>0.212212</td>\n",
       "    </tr>\n",
       "  </tbody>\n",
       "</table>\n",
       "</div>"
      ],
      "text/plain": [
       "                      match_id_hash  radiant_win_prob\n",
       "0  30cc2d778dca82f2edb568ce9b585caa          0.159094\n",
       "1  70e5ba30f367cea48793b9003fab9d38          0.983399\n",
       "2  4d9ef74d3a2025d79e9423105fd73d41          0.962185\n",
       "3  2bb79e0c1eaac1608e5a09c8e0c6a555          0.831977\n",
       "4  bec17f099b01d67edc82dfb5ce735a43          0.212212"
      ]
     },
     "execution_count": 8,
     "metadata": {},
     "output_type": "execute_result"
    }
   ],
   "source": [
    "submission = pd.DataFrame()\n",
    "submission['match_id_hash'] = submission_1['match_id_hash']\n",
    "submission['radiant_win_prob'] =  0.5*submission_1['radiant_win_prob']+ \\\n",
    "                                  0.25*submission_2['radiant_win_prob']+ \\\n",
    "                                  0.25*submission_3['radiant_win_prob']\n",
    "\n",
    "submission.to_csv('submission_blend.csv',index=False)\n",
    "submission.head()"
   ]
  },
  {
   "cell_type": "code",
   "execution_count": null,
   "metadata": {},
   "outputs": [],
   "source": []
  }
 ],
 "metadata": {
  "kernelspec": {
   "display_name": "Python 3",
   "language": "python",
   "name": "python3"
  },
  "language_info": {
   "codemirror_mode": {
    "name": "ipython",
    "version": 3
   },
   "file_extension": ".py",
   "mimetype": "text/x-python",
   "name": "python",
   "nbconvert_exporter": "python",
   "pygments_lexer": "ipython3",
   "version": "3.7.3"
  }
 },
 "nbformat": 4,
 "nbformat_minor": 2
}
